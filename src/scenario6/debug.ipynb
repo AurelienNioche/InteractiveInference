{
 "cells": [
  {
   "cell_type": "code",
   "execution_count": 56,
   "id": "a12f1171",
   "metadata": {},
   "outputs": [],
   "source": [
    "import numpy as np\n",
    "import matplotlib.pyplot as plt\n",
    "import torch\n",
    "import scipy\n",
    "\n",
    "from torch import distributions as dist\n",
    "from scipy.special import logsumexp, expit\n",
    "from scipy.stats import entropy\n",
    "\n",
    "from tqdm.notebook import tqdm\n",
    "\n",
    "from copy import deepcopy"
   ]
  },
  {
   "cell_type": "code",
   "execution_count": 57,
   "id": "ce03af7e",
   "metadata": {},
   "outputs": [],
   "source": [
    "EPS = np.finfo(np.float64).eps"
   ]
  },
  {
   "cell_type": "code",
   "execution_count": 58,
   "id": "667bec6f",
   "metadata": {},
   "outputs": [],
   "source": [
    "def cartesian_product(*arrays):\n",
    "\n",
    "    la = len(arrays)\n",
    "    dtype = np.result_type(*arrays)\n",
    "    arr = np.empty([len(a) for a in arrays] + [la], dtype=dtype)\n",
    "    for i, a in enumerate(np.ix_(*arrays)):\n",
    "        arr[..., i] = a\n",
    "    return arr.reshape(-1, la)\n",
    "\n",
    "def cp_grid_param(grid_size, bounds, methods):\n",
    "    \n",
    "    bds = np.asarray(bounds)\n",
    "    mths = np.asarray(methods)\n",
    "\n",
    "    diff = bds[:, 1] - bds[:, 0] > 0\n",
    "    not_diff = np.invert(diff)\n",
    "\n",
    "    values = np.atleast_2d(\n",
    "        [m(*b, num=grid_size) for (b, m) in\n",
    "         zip(bds[diff], mths[diff])])\n",
    "\n",
    "    var = cartesian_product(*values)\n",
    "    grid = np.zeros((max(1, len(var)), len(bds)))\n",
    "    if np.sum(diff):\n",
    "        grid[:, diff] = var\n",
    "    if np.sum(not_diff):\n",
    "        grid[:, not_diff] = bds[not_diff, 0]\n",
    "\n",
    "    return grid\n",
    "\n",
    "\n",
    "bounds = [1., 1.], [0.0, 0.5]\n",
    "grid = cp_grid_param(grid_size=100, bounds=bounds, methods=(np.geomspace, np.linspace))"
   ]
  },
  {
   "cell_type": "code",
   "execution_count": 59,
   "id": "7b7672ff",
   "metadata": {},
   "outputs": [
    {
     "data": {
      "text/plain": [
       "(100, 2)"
      ]
     },
     "execution_count": 59,
     "metadata": {},
     "output_type": "execute_result"
    }
   ],
   "source": [
    "grid.shape"
   ]
  },
  {
   "cell_type": "code",
   "execution_count": 60,
   "id": "7ef4076a",
   "metadata": {},
   "outputs": [
    {
     "name": "stdout",
     "output_type": "stream",
     "text": [
      "0.010559783919909747 0.008949329037300823\n",
      "0.009718164172281003\n"
     ]
    }
   ],
   "source": [
    "n_pres = np.array([2, 0])\n",
    "delta = np.array([1., 0.])\n",
    "\n",
    "n_item = len(n_pres)\n",
    "n_param = len(bounds)\n",
    "\n",
    "prior = np.ones(len(grid))\n",
    "prior -= scipy.special.logsumexp(prior)\n",
    "\n",
    "item = 0\n",
    "\n",
    "init_fr, rep_effect = grid.T\n",
    "logp_success = -init_fr*(1-rep_effect)**(n_pres[item]-1)*delta[item]\n",
    "\n",
    "post_success = prior + logp_success\n",
    "post_success -= logsumexp(post_success)\n",
    "ig_success = entropy(np.exp(post_success), np.exp(prior))\n",
    "\n",
    "post_failure = prior + np.log(1 - np.exp(logp_success))\n",
    "post_failure -= logsumexp(post_failure)\n",
    "ig_failure = entropy(np.exp(post_failure), np.exp(prior))\n",
    "\n",
    "marg_p_success = np.sum(np.exp(prior + logp_success))\n",
    "\n",
    "print(ig_success, ig_failure)\n",
    "print(marg_p_success*ig_success + (1 - marg_p_success)*ig_failure)"
   ]
  },
  {
   "cell_type": "code",
   "execution_count": 61,
   "id": "e08b7036",
   "metadata": {},
   "outputs": [
    {
     "data": {
      "application/json": {
       "ascii": false,
       "bar_format": null,
       "colour": null,
       "elapsed": 0.004334926605224609,
       "initial": 0,
       "n": 0,
       "ncols": null,
       "nrows": 25,
       "postfix": null,
       "prefix": "",
       "rate": null,
       "total": 100,
       "unit": "it",
       "unit_divisor": 1000,
       "unit_scale": false
      },
      "application/vnd.jupyter.widget-view+json": {
       "model_id": "09134b8a2811426eb825e46a31b50e37",
       "version_major": 2,
       "version_minor": 0
      },
      "text/plain": [
       "  0%|          | 0/100 [00:00<?, ?it/s]"
      ]
     },
     "metadata": {},
     "output_type": "display_data"
    },
    {
     "data": {
      "text/plain": [
       "tensor([0.1188, 0.1188, 0.1247, 0.1052, 0.5325])"
      ]
     },
     "execution_count": 61,
     "metadata": {},
     "output_type": "execute_result"
    }
   ],
   "source": [
    "n_epoch = 100\n",
    "n_sample = 10\n",
    "lr = 0.5\n",
    "\n",
    "n_pres = np.arange(0, 5)\n",
    "delta = np.ones(len(n_pres))\n",
    "\n",
    "n_item = len(n_pres)\n",
    "n_param = len(bounds)\n",
    "\n",
    "prior_action = dist.Categorical(logits=torch.ones(n_item))\n",
    "\n",
    "logits_action = torch.nn.Parameter(torch.ones(n_item))\n",
    "\n",
    "opt = torch.optim.Adam([logits_action, ], lr=lr)\n",
    "\n",
    "prior = np.ones(len(grid))\n",
    "prior -= logsumexp(prior)\n",
    "\n",
    "with tqdm(total=n_epoch) as pbar:\n",
    "    for _ in range(n_epoch):\n",
    "\n",
    "        opt.zero_grad()\n",
    "        \n",
    "        q = dist.Categorical(logits=logits_action)\n",
    "        item_samples = q.sample((n_sample, ))\n",
    "        \n",
    "        sum_terms = 0\n",
    "        \n",
    "        for item in item_samples:\n",
    "            if n_pres[item] == 0:\n",
    "                expected_ig = 0.0\n",
    "            else:\n",
    "                init_fr, rep_effect = grid.T\n",
    "                logp_success = -init_fr*(1-rep_effect)**(n_pres[item]-1)*delta[item]\n",
    "\n",
    "                post_success = prior + logp_success\n",
    "                post_success -= logsumexp(post_success)\n",
    "                ig_success = entropy(np.exp(post_success), np.exp(prior))\n",
    "\n",
    "                post_failure = prior + np.log(1 - np.exp(logp_success))\n",
    "                post_failure -= logsumexp(post_failure)\n",
    "                ig_failure = entropy(np.exp(post_failure), np.exp(prior))\n",
    "\n",
    "                marg_p_success = np.sum(np.exp(prior + logp_success))\n",
    "\n",
    "                expected_ig = marg_p_success*ig_success + (1 - marg_p_success)*ig_failure\n",
    "\n",
    "            sum_terms += q.log_prob(item).exp() * expected_ig\n",
    "        \n",
    "        loss = - torch.log(sum_terms) + torch.distributions.kl_divergence(q, prior_action)\n",
    "\n",
    "        loss.backward()\n",
    "        opt.step()\n",
    "        \n",
    "        pbar.set_postfix({\"loss\": loss.item()})\n",
    "        pbar.update()\n",
    "\n",
    "dist.Categorical(logits=logits_action).probs.data"
   ]
  },
  {
   "cell_type": "markdown",
   "id": "d48de8cd",
   "metadata": {},
   "source": [
    "### Trajectories"
   ]
  },
  {
   "cell_type": "code",
   "execution_count": 62,
   "id": "a23e6a75",
   "metadata": {},
   "outputs": [
    {
     "name": "stdout",
     "output_type": "stream",
     "text": [
      "[0 0] 0.012636287668632569\n",
      "[0 1] 0.009718164172281003\n",
      "[1 0] 0.009718164172281003\n",
      "[1 1] 0.05421082840397357\n"
     ]
    }
   ],
   "source": [
    "current_n_pres = np.arange(1, 3)\n",
    "current_delta = np.ones(len(current_n_pres))\n",
    "\n",
    "n_item = len(current_n_pres)\n",
    "n_param = len(bounds)\n",
    "\n",
    "prior = np.ones(len(grid))\n",
    "prior -= scipy.special.logsumexp(prior)\n",
    "\n",
    "n_step = 2\n",
    "inter_trial_interval = 2.\n",
    "\n",
    "all_traj = cartesian_product(*[np.arange(n_item) for _ in range(n_step)])\n",
    "results = []\n",
    "\n",
    "for traj in all_traj:\n",
    "    expected_ig = 0. \n",
    "    \n",
    "    n_pres = deepcopy(current_n_pres)\n",
    "    delta = deepcopy(current_delta)\n",
    "    \n",
    "    for item in traj:\n",
    "\n",
    "        if n_pres[item] == 0:\n",
    "            expected_ig += 0.0\n",
    "        else:\n",
    "            init_fr, rep_effect = grid.T\n",
    "            logp_success = -init_fr*(1-rep_effect)**(n_pres[item]-1)*delta[item]\n",
    "\n",
    "            post_success = prior + logp_success\n",
    "            post_success -= logsumexp(post_success)\n",
    "            ig_success = entropy(np.exp(post_success), np.exp(prior))\n",
    "\n",
    "            post_failure = prior + np.log(1 - np.exp(logp_success))\n",
    "            post_failure -= logsumexp(post_failure)\n",
    "            ig_failure = entropy(np.exp(post_failure), np.exp(prior))\n",
    "\n",
    "            marg_p_success = np.sum(np.exp(prior + logp_success))\n",
    "\n",
    "            expected_ig += marg_p_success*ig_success + (1 - marg_p_success)*ig_failure\n",
    "        \n",
    "        n_pres[item] += 1\n",
    "        delta[item] = inter_trial_interval\n",
    "    \n",
    "    print(traj, expected_ig)\n",
    "    \n",
    "    results.append(expected_ig)\n",
    "# print(results)"
   ]
  },
  {
   "cell_type": "code",
   "execution_count": 63,
   "id": "e935059c",
   "metadata": {},
   "outputs": [
    {
     "data": {
      "application/json": {
       "ascii": false,
       "bar_format": null,
       "colour": null,
       "elapsed": 0.0068361759185791016,
       "initial": 0,
       "n": 0,
       "ncols": null,
       "nrows": 25,
       "postfix": null,
       "prefix": "",
       "rate": null,
       "total": 1000,
       "unit": "it",
       "unit_divisor": 1000,
       "unit_scale": false
      },
      "application/vnd.jupyter.widget-view+json": {
       "model_id": "d60a128b85a642d7ab75456f4fe9db08",
       "version_major": 2,
       "version_minor": 0
      },
      "text/plain": [
       "  0%|          | 0/1000 [00:00<?, ?it/s]"
      ]
     },
     "metadata": {},
     "output_type": "display_data"
    },
    {
     "data": {
      "text/plain": [
       "tensor([[6.8884e-05, 9.9993e-01],\n",
       "        [1.3378e-04, 9.9987e-01]], grad_fn=<SoftmaxBackward0>)"
      ]
     },
     "execution_count": 63,
     "metadata": {},
     "output_type": "execute_result"
    }
   ],
   "source": [
    "n_epoch = 1000\n",
    "n_sample = 10\n",
    "lr = 0.2\n",
    "\n",
    "current_n_pres = np.arange(1, 3)\n",
    "current_delta = np.ones(len(current_n_pres))\n",
    "\n",
    "n_item = len(current_n_pres)\n",
    "n_param = len(bounds)\n",
    "\n",
    "n_step = 2\n",
    "inter_trial_interval = 3.\n",
    "\n",
    "prior_action = dist.Categorical(logits=torch.ones(n_item))\n",
    "\n",
    "logits_action = torch.nn.Parameter(torch.ones((n_step, n_item)))\n",
    "\n",
    "opt = torch.optim.Adam([logits_action, ], lr=lr)\n",
    "\n",
    "prior = np.ones(len(grid))\n",
    "prior -= logsumexp(prior)\n",
    "\n",
    "with tqdm(total=n_epoch) as pbar:\n",
    "    for _ in range(n_epoch):\n",
    "\n",
    "        opt.zero_grad()\n",
    "        \n",
    "        for smp in range(n_sample):\n",
    "            \n",
    "            n_pres = deepcopy(current_n_pres)\n",
    "            delta = deepcopy(current_delta)\n",
    "            \n",
    "            sum_terms = 0\n",
    "            sum_kl_div_prior = 0\n",
    "            \n",
    "            for t in range(n_step):\n",
    "                        \n",
    "                q = dist.Categorical(logits=logits_action[t])\n",
    "                item = q.sample()\n",
    "\n",
    "                if n_pres[item] == 0:\n",
    "                    expected_ig = 0.0\n",
    "\n",
    "                else:\n",
    "                    init_fr, rep_effect = grid.T\n",
    "                    logp_success = -init_fr*(1-rep_effect)**(n_pres[item]-1)*delta[item]\n",
    "\n",
    "                    post_success = prior + logp_success\n",
    "                    post_success -= logsumexp(post_success)\n",
    "                    ig_success = entropy(np.exp(post_success), np.exp(prior))\n",
    "\n",
    "                    post_failure = prior + np.log(1 - np.exp(logp_success))\n",
    "                    post_failure -= logsumexp(post_failure)\n",
    "                    ig_failure = entropy(np.exp(post_failure), np.exp(prior))\n",
    "\n",
    "                    marg_p_success = np.sum(np.exp(prior + logp_success))\n",
    "\n",
    "                    expected_ig = marg_p_success*ig_success + (1 - marg_p_success)*ig_failure\n",
    "\n",
    "                sum_terms += q.log_prob(item).exp() * expected_ig      \n",
    "                        \n",
    "                n_pres[item] += 1\n",
    "                delta[item] = inter_trial_interval\n",
    "                \n",
    "                sum_kl_div_prior += torch.distributions.kl_divergence(q, prior_action)\n",
    "\n",
    "            loss = - torch.log(sum_terms)\n",
    "\n",
    "        loss.backward()\n",
    "        opt.step()\n",
    "        \n",
    "        pbar.set_postfix({\"loss\": loss.item()})\n",
    "        pbar.update()\n",
    "\n",
    "dist.Categorical(logits=logits_action).probs"
   ]
  },
  {
   "cell_type": "code",
   "execution_count": 64,
   "id": "6a69d3b9",
   "metadata": {},
   "outputs": [
    {
     "data": {
      "application/json": {
       "ascii": false,
       "bar_format": null,
       "colour": null,
       "elapsed": 0.0028548240661621094,
       "initial": 0,
       "n": 0,
       "ncols": null,
       "nrows": 25,
       "postfix": null,
       "prefix": "",
       "rate": null,
       "total": 1024,
       "unit": "it",
       "unit_divisor": 1000,
       "unit_scale": false
      },
      "application/vnd.jupyter.widget-view+json": {
       "model_id": "02686006e4124d5cbce515c4d5824ffb",
       "version_major": 2,
       "version_minor": 0
      },
      "text/plain": [
       "  0%|          | 0/1024 [00:00<?, ?it/s]"
      ]
     },
     "metadata": {},
     "output_type": "display_data"
    }
   ],
   "source": [
    "n_item = 4\n",
    "\n",
    "current_n_pres = np.ones(n_item)\n",
    "current_delta = np.ones(n_item)\n",
    "\n",
    "n_param = len(bounds)\n",
    "\n",
    "prior = np.ones(len(grid))\n",
    "prior -= scipy.special.logsumexp(prior)\n",
    "\n",
    "n_step = 5\n",
    "inter_trial_interval = 0.1\n",
    "\n",
    "all_traj = cartesian_product(*[np.arange(n_item) for _ in range(n_step)])\n",
    "results = []\n",
    "\n",
    "for traj in tqdm(all_traj):\n",
    "    expected_ig = 0. \n",
    "    \n",
    "    n_pres = deepcopy(current_n_pres)\n",
    "    delta = deepcopy(current_delta)\n",
    "    \n",
    "    for item in traj:\n",
    "\n",
    "        if n_pres[item] == 0:\n",
    "            expected_ig += 0.0\n",
    "        else:\n",
    "            init_fr, rep_effect = grid.T\n",
    "            logp_success = -init_fr*(1-rep_effect)**(n_pres[item]-1)*delta[item]\n",
    "\n",
    "            post_success = prior + logp_success\n",
    "            post_success -= logsumexp(post_success)\n",
    "            ig_success = entropy(np.exp(post_success), np.exp(prior))\n",
    "\n",
    "            post_failure = prior + np.log(1 - np.exp(logp_success))\n",
    "            post_failure -= logsumexp(post_failure)\n",
    "            ig_failure = entropy(np.exp(post_failure), np.exp(prior))\n",
    "\n",
    "            marg_p_success = np.sum(np.exp(prior + logp_success))\n",
    "\n",
    "            expected_ig += marg_p_success*ig_success + (1 - marg_p_success)*ig_failure\n",
    "        \n",
    "        n_pres[item] += 1\n",
    "        delta[item] = inter_trial_interval\n",
    "    \n",
    "    # print(traj, expected_ig)\n",
    "    \n",
    "    results.append(expected_ig)\n",
    "# print(results)"
   ]
  },
  {
   "cell_type": "code",
   "execution_count": 65,
   "id": "afe18a14",
   "metadata": {},
   "outputs": [
    {
     "data": {
      "text/plain": [
       "array([[0, 0, 0, 0, 0],\n",
       "       [1, 1, 1, 1, 1],\n",
       "       [2, 2, 2, 2, 2],\n",
       "       [3, 3, 3, 3, 3]])"
      ]
     },
     "execution_count": 65,
     "metadata": {},
     "output_type": "execute_result"
    }
   ],
   "source": [
    "all_traj[results == np.max(results)]"
   ]
  },
  {
   "cell_type": "markdown",
   "id": "c0af8d95",
   "metadata": {},
   "source": [
    "### Debug `deltas` computation "
   ]
  },
  {
   "cell_type": "code",
   "execution_count": 66,
   "id": "fea886f9",
   "metadata": {},
   "outputs": [
    {
     "name": "stdout",
     "output_type": "stream",
     "text": [
      "delays [3, 10, 3, 10, 3, 10]\n",
      "n_pres [0. 1. 0. 0. 2. 2. 1. 0. 0. 0.]\n",
      "delta [39. 13. 39. 39. 10. 23. 36. 39. 39. 39.]\n",
      "delays [ 3 10  3 10  3 10]\n",
      "n_pres [0. 1. 0. 0. 2. 2. 1. 0. 0. 0.]\n",
      "delta [39. 13. 39. 39. 10. 23. 36. 39. 39. 39.]\n"
     ]
    }
   ],
   "source": [
    "current_iter = 0\n",
    "current_ss = 0\n",
    "\n",
    "n_item = 10\n",
    "n_iter_per_session = 2\n",
    "time_per_iter = 3\n",
    "break_length = 10\n",
    "n_session = 3\n",
    "\n",
    "\n",
    "delta = np.zeros(n_item)\n",
    "n_pres = np.zeros(n_item)\n",
    "\n",
    "trajectory = []\n",
    "delays = []\n",
    "\n",
    "done = False\n",
    "while not done:\n",
    "    \n",
    "    item = np.random.choice(np.arange(n_item))\n",
    "    trajectory.append(item)\n",
    "    \n",
    "    current_iter += 1\n",
    "    if current_iter >= n_iter_per_session:\n",
    "        current_iter = 0\n",
    "        current_ss += 1\n",
    "        time_elapsed = break_length\n",
    "    else:\n",
    "        time_elapsed = time_per_iter\n",
    "\n",
    "    done = False\n",
    "    if current_ss >= n_session:\n",
    "        done = True\n",
    "\n",
    "    # increase delta\n",
    "    delta += time_elapsed\n",
    "    # ...specific for item shown\n",
    "    delta[item] = time_elapsed\n",
    "    # increment number of presentation\n",
    "    n_pres[item] += 1\n",
    "    \n",
    "    delays.append(time_elapsed)\n",
    "    \n",
    "\n",
    "print(\"delays\", delays)\n",
    "print(\"n_pres\", n_pres)\n",
    "print(\"delta\", delta)\n",
    "    \n",
    "\n",
    "traj = np.asarray(trajectory)\n",
    "\n",
    "delta = np.zeros(n_item)\n",
    "n_pres = np.zeros(n_item)\n",
    "\n",
    "delays = np.tile(\n",
    "    [time_per_iter for _ in range(n_iter_per_session - 1)] + [break_length, ], \n",
    "    n_session)\n",
    "\n",
    "n_step = len(trajectory)\n",
    "\n",
    "for item in range(n_item):\n",
    "    item_pres = traj == item\n",
    "    n_pres_traj = np.sum(item_pres)\n",
    "    n_pres[item] += n_pres_traj\n",
    "    if n_pres_traj == 0:\n",
    "        delta[item] = np.sum(delays)\n",
    "    else:\n",
    "        delta[item] = np.sum(delays[np.arange(n_step)[item_pres][-1]:])\n",
    "        \n",
    "print(\"delays\", delays)\n",
    "print(\"n_pres\", n_pres)\n",
    "print(\"delta\", delta)"
   ]
  },
  {
   "cell_type": "code",
   "execution_count": null,
   "id": "f7d56147",
   "metadata": {},
   "outputs": [],
   "source": []
  },
  {
   "cell_type": "code",
   "execution_count": 67,
   "id": "d7d156fa",
   "metadata": {},
   "outputs": [
    {
     "name": "stdout",
     "output_type": "stream",
     "text": [
      "N possible trajectories 81\n",
      "Best possible reward 0.4435423584793902\n",
      "N best 6\n",
      "Best are:0\n",
      " [[0 0 1 2]\n",
      " [0 0 2 1]\n",
      " [1 1 0 2]\n",
      " [1 1 2 0]\n",
      " [2 2 0 1]\n",
      " [2 2 1 0]]\n"
     ]
    }
   ],
   "source": [
    "n_item = 3\n",
    "\n",
    "inv_temp = 10.\n",
    "\n",
    "threshold = 0.9\n",
    "\n",
    "n_iter_per_session = 2 \n",
    "time_per_iter = 2\n",
    "break_length = 10\n",
    "n_session = 2\n",
    "\n",
    "t = 0\n",
    "\n",
    "time_per_iter = 2\n",
    "n_iter_per_session = 2 \n",
    "break_length = 10\n",
    "n_session = 2\n",
    "\n",
    "t_max = n_session*n_iter_per_session\n",
    "\n",
    "t_remaining = t_max - t\n",
    "\n",
    "initial_forget_rates = np.ones(n_item) * 0.01\n",
    "repetition_rates = np.ones(n_item) * 0.2\n",
    "\n",
    "delays = np.tile(\n",
    "    [time_per_iter \n",
    "     for _ in range(n_iter_per_session - 1)] \n",
    "    + [break_length, ], \n",
    "    n_session)[t:]\n",
    "\n",
    "current_n_pres = np.zeros(n_item)\n",
    "current_delta = np.ones(n_item)\n",
    "\n",
    "print(\"N possible trajectories\", n_item**t_remaining)\n",
    "\n",
    "all_traj = cartesian_product(*[np.arange(n_item) \n",
    "                               for _ in range(t_remaining)])\n",
    "\n",
    "results = []\n",
    "\n",
    "for traj in all_traj:\n",
    "\n",
    "    n_pres = deepcopy(current_n_pres)\n",
    "    delta = deepcopy(current_delta)\n",
    "\n",
    "    for item in range(n_item):\n",
    "\n",
    "        item_pres = traj == item\n",
    "        n_pres_traj = np.sum(item_pres)\n",
    "        n_pres[item] += n_pres_traj\n",
    "        if n_pres_traj == 0:\n",
    "            delta[item] += np.sum(delays)\n",
    "        else:\n",
    "            idx_last_pres = np.arange(t_remaining)[item_pres][-1]\n",
    "            delta[item] = np.sum(delays[idx_last_pres:])\n",
    "\n",
    "    p = np.zeros(n_item)\n",
    "\n",
    "    view = n_pres > 0\n",
    "    rep = n_pres[view] - 1.\n",
    "    delta = delta[view]\n",
    "\n",
    "    init_fr = initial_forget_rates[view]\n",
    "    rep_eff = repetition_rates[view]\n",
    "\n",
    "    forget_rate = init_fr * (1 - rep_eff) ** rep\n",
    "    logp_recall = - forget_rate * delta\n",
    "\n",
    "    p[n_pres > 0] = np.exp(logp_recall)\n",
    "\n",
    "    learning_reward = np.mean(expit(inv_temp * (p - threshold)))\n",
    "    results.append(learning_reward)\n",
    "\n",
    "max_r = np.max(results)\n",
    "best = results == max_r\n",
    "print(\"Best possible reward\", max_r)\n",
    "print(\"N best\", np.sum(best))\n",
    "print(\"Best are:0\\n\", all_traj[best])"
   ]
  },
  {
   "cell_type": "code",
   "execution_count": 68,
   "id": "ef3e6360",
   "metadata": {},
   "outputs": [
    {
     "data": {
      "application/json": {
       "ascii": false,
       "bar_format": null,
       "colour": null,
       "elapsed": 0.002797842025756836,
       "initial": 0,
       "n": 0,
       "ncols": null,
       "nrows": 25,
       "postfix": null,
       "prefix": "",
       "rate": null,
       "total": 1000,
       "unit": "it",
       "unit_divisor": 1000,
       "unit_scale": false
      },
      "application/vnd.jupyter.widget-view+json": {
       "model_id": "",
       "version_major": 2,
       "version_minor": 0
      },
      "text/plain": [
       "  0%|          | 0/1000 [00:00<?, ?it/s]"
      ]
     },
     "metadata": {},
     "output_type": "display_data"
    },
    {
     "name": "stdout",
     "output_type": "stream",
     "text": [
      "[1 0 1 0]\n",
      "0.5365492649422604\n"
     ]
    }
   ],
   "source": [
    "n_item = 3\n",
    "\n",
    "inv_temp = 100.\n",
    "\n",
    "threshold = 0.9\n",
    "\n",
    "n_iter_per_session = 2 \n",
    "time_per_iter = 2\n",
    "break_length = 10\n",
    "n_session = 2\n",
    "\n",
    "t = 0\n",
    "\n",
    "time_per_iter = 2\n",
    "n_iter_per_session = 2 \n",
    "break_length = 10\n",
    "n_session = 2\n",
    "\n",
    "n_epochs = 1000\n",
    "lr = 0.5\n",
    "\n",
    "t_max = n_session*n_iter_per_session\n",
    "\n",
    "t_remaining = t_max - t\n",
    "\n",
    "logits_action = torch.nn.Parameter(torch.ones((t_remaining, n_item)))\n",
    "\n",
    "opt = torch.optim.Adam([logits_action, ], lr=lr)\n",
    "\n",
    "prior_action = dist.Categorical(logits=torch.ones(n_item))\n",
    "\n",
    "delays = np.tile(\n",
    "    [time_per_iter \n",
    "     for _ in range(n_iter_per_session - 1)] \n",
    "    + [break_length, ], \n",
    "    n_session)[t:]\n",
    "\n",
    "n_step = t_remaining\n",
    "\n",
    "with tqdm(total=n_epochs, position=1, leave=False) as pbar:\n",
    "    \n",
    "    for epoch in range(n_epochs):\n",
    "\n",
    "        opt.zero_grad()\n",
    "\n",
    "        q = dist.Categorical(logits_action)\n",
    "        trajectories = q.sample((n_sample, ))\n",
    "\n",
    "        loss = 0\n",
    "\n",
    "        for trajectory in trajectories:\n",
    "\n",
    "            n_pres = deepcopy(current_n_pres)\n",
    "            delta = deepcopy(current_delta)\n",
    "\n",
    "            for item in range(n_item):\n",
    "\n",
    "                item_pres = traj == item\n",
    "                n_pres_traj = np.sum(item_pres)\n",
    "                n_pres[item] += n_pres_traj\n",
    "                if n_pres_traj == 0:\n",
    "                    delta[item] += np.sum(delays)\n",
    "                else:\n",
    "                    idx_last_pres = np.arange(t_remaining)[item_pres][-1]\n",
    "                    delta[item] = np.sum(delays[idx_last_pres:])\n",
    "\n",
    "            p = np.zeros(n_item)\n",
    "\n",
    "            view = n_pres > 0\n",
    "            rep = n_pres[view] - 1.\n",
    "            delta = delta[view]\n",
    "\n",
    "            init_fr = initial_forget_rates[view]\n",
    "            rep_eff = repetition_rates[view]\n",
    "\n",
    "            forget_rate = init_fr * (1 - rep_eff) ** rep\n",
    "            logp_recall = - forget_rate * delta\n",
    "\n",
    "            p[n_pres > 0] = np.exp(logp_recall)\n",
    "\n",
    "            learning_reward = np.mean(expit(inv_temp * (p - threshold)))\n",
    "\n",
    "            loss -= q.log_prob(trajectory).sum().exp() * learning_reward\n",
    "\n",
    "            for t in range(n_step):\n",
    "                q = dist.Categorical(logits_action[t])\n",
    "                loss += torch.distributions.kl_divergence(q, prior_action)\n",
    "\n",
    "        loss.backward()\n",
    "        opt.step()\n",
    "\n",
    "        pbar.set_postfix({\"loss\": loss.item()})\n",
    "        pbar.update()\n",
    "\n",
    "\n",
    "traj = np.argmax(logits_action.detach().numpy(), axis=1)\n",
    "\n",
    "n_pres = deepcopy(current_n_pres)\n",
    "delta = deepcopy(current_delta)\n",
    "\n",
    "for item in range(n_item):\n",
    "\n",
    "    item_pres = traj == item\n",
    "    n_pres_traj = np.sum(item_pres)\n",
    "    n_pres[item] += n_pres_traj\n",
    "    if n_pres_traj == 0:\n",
    "        delta[item] += np.sum(delays)\n",
    "    else:\n",
    "        idx_last_pres = np.arange(t_remaining)[item_pres][-1]\n",
    "        delta[item] = np.sum(delays[idx_last_pres:])\n",
    "\n",
    "p = np.zeros(n_item)\n",
    "\n",
    "view = n_pres > 0\n",
    "rep = n_pres[view] - 1.\n",
    "delta = delta[view]\n",
    "\n",
    "init_fr = initial_forget_rates[view]\n",
    "rep_eff = repetition_rates[view]\n",
    "\n",
    "forget_rate = init_fr * (1 - rep_eff) ** rep\n",
    "logp_recall = - forget_rate * delta\n",
    "\n",
    "p[n_pres > 0] = np.exp(logp_recall)\n",
    "\n",
    "learning_reward = np.mean(expit(inv_temp * (p - threshold)))\n",
    "\n",
    "print(traj)\n",
    "print(learning_reward)"
   ]
  },
  {
   "cell_type": "code",
   "execution_count": 69,
   "id": "8e6d279a",
   "metadata": {},
   "outputs": [
    {
     "data": {
      "text/plain": [
       "array([[0, 0],\n",
       "       [0, 1],\n",
       "       [1, 0],\n",
       "       [1, 1]])"
      ]
     },
     "execution_count": 69,
     "metadata": {},
     "output_type": "execute_result"
    }
   ],
   "source": [
    "all_traj = cartesian_product(*[np.arange(2) \n",
    "                               for _ in range(2)])\n",
    "all_traj"
   ]
  },
  {
   "cell_type": "code",
   "execution_count": 78,
   "id": "5f19e94b",
   "metadata": {},
   "outputs": [
    {
     "name": "stdout",
     "output_type": "stream",
     "text": [
      "tensor(0.2134)\n",
      "tensor(0.2134)\n"
     ]
    }
   ],
   "source": [
    "n_step, n_item = 5, 4\n",
    "logits_action = torch.rand((n_step, n_item))\n",
    "\n",
    "loss = 0\n",
    "p = dist.Categorical(logits=torch.ones(n_item))\n",
    "for t in range(n_step):\n",
    "    q = dist.Categorical(logits=logits_action[t])\n",
    "    loss += torch.distributions.kl_divergence(q, p)\n",
    "print(loss)\n",
    "\n",
    "loss = 0\n",
    "p = dist.Categorical(logits=torch.ones((n_step, n_item)))\n",
    "q = dist.Categorical(logits=logits_action)\n",
    "loss = torch.distributions.kl_divergence(q, p).sum()\n",
    "print(loss)"
   ]
  },
  {
   "cell_type": "code",
   "execution_count": null,
   "id": "3c3c3871",
   "metadata": {},
   "outputs": [],
   "source": []
  },
  {
   "cell_type": "code",
   "execution_count": null,
   "id": "17ba60c9",
   "metadata": {},
   "outputs": [],
   "source": []
  }
 ],
 "metadata": {
  "kernelspec": {
   "display_name": "Python 3 (ipykernel)",
   "language": "python",
   "name": "python3"
  },
  "language_info": {
   "codemirror_mode": {
    "name": "ipython",
    "version": 3
   },
   "file_extension": ".py",
   "mimetype": "text/x-python",
   "name": "python",
   "nbconvert_exporter": "python",
   "pygments_lexer": "ipython3",
   "version": "3.9.13"
  },
  "varInspector": {
   "cols": {
    "lenName": 16,
    "lenType": 16,
    "lenVar": 40
   },
   "kernels_config": {
    "python": {
     "delete_cmd_postfix": "",
     "delete_cmd_prefix": "del ",
     "library": "var_list.py",
     "varRefreshCmd": "print(var_dic_list())"
    },
    "r": {
     "delete_cmd_postfix": ") ",
     "delete_cmd_prefix": "rm(",
     "library": "var_list.r",
     "varRefreshCmd": "cat(var_dic_list()) "
    }
   },
   "types_to_exclude": [
    "module",
    "function",
    "builtin_function_or_method",
    "instance",
    "_Feature"
   ],
   "window_display": false
  }
 },
 "nbformat": 4,
 "nbformat_minor": 5
}
