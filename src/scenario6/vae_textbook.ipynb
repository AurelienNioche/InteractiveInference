{
 "cells": [
  {
   "cell_type": "code",
   "execution_count": 1,
   "metadata": {
    "ExecuteTime": {
     "end_time": "2023-03-02T21:21:18.907209Z",
     "start_time": "2023-03-02T21:21:18.173398Z"
    }
   },
   "outputs": [],
   "source": [
    "import os\n",
    "import torch\n",
    "\n",
    "import torch.nn as nn\n",
    "import torch.nn.functional as F\n",
    "import torch.optim as optim\n",
    "from torchvision import datasets, transforms\n",
    "from torchvision.utils import save_image\n",
    "from torch.utils.data import DataLoader"
   ]
  },
  {
   "cell_type": "code",
   "execution_count": 2,
   "metadata": {
    "ExecuteTime": {
     "end_time": "2023-03-02T21:21:28.824362Z",
     "start_time": "2023-03-02T21:21:28.817562Z"
    }
   },
   "outputs": [],
   "source": [
    "batch_size = 128\n",
    "epochs = 10\n",
    "fig_folder = \"results\"\n",
    "\n",
    "os.makedirs(fig_folder, exist_ok=True)"
   ]
  },
  {
   "cell_type": "code",
   "execution_count": 3,
   "metadata": {
    "ExecuteTime": {
     "end_time": "2023-03-02T21:21:29.736044Z",
     "start_time": "2023-03-02T21:21:29.661516Z"
    }
   },
   "outputs": [],
   "source": [
    "train_loader = DataLoader(\n",
    "    datasets.MNIST('data', train=True, download=True,\n",
    "                   transform=transforms.ToTensor()),\n",
    "    batch_size=batch_size, shuffle=True)\n",
    "test_loader = DataLoader(\n",
    "    datasets.MNIST('data', train=False, transform=transforms.ToTensor()),\n",
    "    batch_size=batch_size, shuffle=False)"
   ]
  },
  {
   "cell_type": "code",
   "execution_count": 4,
   "metadata": {
    "ExecuteTime": {
     "end_time": "2023-03-02T21:21:31.199657Z",
     "start_time": "2023-03-02T21:21:31.196181Z"
    }
   },
   "outputs": [],
   "source": [
    "class VAE(nn.Module):\n",
    "    def __init__(self):\n",
    "        super().__init__()\n",
    "        self.fc1 = nn.Linear(784, 400)\n",
    "        self.fc21 = nn.Linear(400, 20)\n",
    "        self.fc22 = nn.Linear(400, 20)\n",
    "        self.fc3 = nn.Linear(20, 400)\n",
    "        self.fc4 = nn.Linear(400, 784)\n",
    "\n",
    "    def encode(self, x):\n",
    "        h1 = F.relu(self.fc1(x))\n",
    "        return self.fc21(h1), self.fc22(h1)\n",
    "\n",
    "    def reparameterize(self, mu, logvar):\n",
    "        std = torch.exp(0.5*logvar)\n",
    "        eps = torch.randn_like(std)\n",
    "        return mu + eps*std\n",
    "\n",
    "    def decode(self, z):\n",
    "        h3 = F.relu(self.fc3(z))\n",
    "        return torch.sigmoid(self.fc4(h3))\n",
    "\n",
    "    def forward(self, x):\n",
    "        mu, logvar = self.encode(x.view(-1, 784))\n",
    "        z = self.reparameterize(mu, logvar)\n",
    "        return self.decode(z), mu, logvar\n",
    "\n",
    "# Reconstruction + KL divergence losses summed over all elements and batch\n",
    "def vae_loss(recon_x, x, mu, logvar):\n",
    "    BCE = F.binary_cross_entropy(recon_x, x.view(-1, 784), reduction='sum')\n",
    "\n",
    "    # see Appendix B from VAE paper:\n",
    "    # Kingma and Welling. Auto-Encoding Variational Bayes. ICLR, 2014\n",
    "    # https://arxiv.org/abs/1312.6114\n",
    "    # 0.5 * sum(1 + log(sigma^2) - mu^2 - sigma^2)\n",
    "    KLD = -0.5 * torch.sum(1 + logvar - mu.pow(2) - logvar.exp())\n",
    "\n",
    "    return BCE + KLD"
   ]
  },
  {
   "cell_type": "code",
   "execution_count": 5,
   "metadata": {
    "ExecuteTime": {
     "end_time": "2023-03-02T21:21:41.190608Z",
     "start_time": "2023-03-02T21:21:41.182778Z"
    }
   },
   "outputs": [],
   "source": [
    "def train(model, loss_function, epoch, log_interval=100):\n",
    "    model.train()\n",
    "    train_loss = 0\n",
    "    for batch_idx, (data, _) in enumerate(train_loader):\n",
    "        optimizer.zero_grad()\n",
    "        recon_batch, mu, logvar = model(data)\n",
    "        loss = loss_function(recon_batch, data, mu, logvar)\n",
    "        loss.backward()\n",
    "        train_loss += loss.item()\n",
    "        optimizer.step()\n",
    "        if batch_idx % log_interval == 0:\n",
    "            print('Train Epoch: {} [{}/{} ({:.0f}%)]\\tLoss: {:.6f}'.format(\n",
    "                epoch, batch_idx * len(data), len(train_loader.dataset),\n",
    "                100. * batch_idx / len(train_loader),\n",
    "                loss.item() / len(data)))\n",
    "\n",
    "    print('====> Epoch: {} Average loss: {:.4f}'.format(\n",
    "          epoch, train_loss / len(train_loader.dataset)))\n",
    "\n",
    "\n",
    "def test(model, loss_function, epoch, batch_size, fig_folder):\n",
    "    model.eval()\n",
    "    test_loss = 0\n",
    "    with torch.no_grad():\n",
    "        for i, (data, _) in enumerate(test_loader):\n",
    "            recon_batch, mu, logvar = model(data)\n",
    "            test_loss += loss_function(recon_batch, data, mu, logvar).item()\n",
    "            if i == 0:\n",
    "                n = min(data.size(0), 8)\n",
    "                comparison = torch.cat([data[:n],\n",
    "                                      recon_batch.view(batch_size, 1, 28, 28)[:n]])\n",
    "                save_image(comparison.cpu(),\n",
    "                         f'{fig_folder}/reconstruction_{epoch}.png', nrow=n)\n",
    "\n",
    "    test_loss /= len(test_loader.dataset)\n",
    "    print('====> Test set loss: {:.4f}'.format(test_loss))\n"
   ]
  },
  {
   "cell_type": "code",
   "execution_count": 6,
   "metadata": {
    "ExecuteTime": {
     "end_time": "2023-03-02T21:22:50.321413Z",
     "start_time": "2023-03-02T21:21:42.621918Z"
    }
   },
   "outputs": [
    {
     "name": "stdout",
     "output_type": "stream",
     "text": [
      "Train Epoch: 1 [0/60000 (0%)]\tLoss: 549.914001\n",
      "Train Epoch: 1 [12800/60000 (21%)]\tLoss: 186.073578\n",
      "Train Epoch: 1 [25600/60000 (43%)]\tLoss: 162.865448\n",
      "Train Epoch: 1 [38400/60000 (64%)]\tLoss: 136.101974\n",
      "Train Epoch: 1 [51200/60000 (85%)]\tLoss: 133.989807\n",
      "====> Epoch: 1 Average loss: 164.7907\n",
      "====> Test set loss: 127.7093\n",
      "Train Epoch: 2 [0/60000 (0%)]\tLoss: 129.922531\n",
      "Train Epoch: 2 [12800/60000 (21%)]\tLoss: 127.441360\n",
      "Train Epoch: 2 [25600/60000 (43%)]\tLoss: 121.042252\n",
      "Train Epoch: 2 [38400/60000 (64%)]\tLoss: 121.625618\n",
      "Train Epoch: 2 [51200/60000 (85%)]\tLoss: 118.962547\n",
      "====> Epoch: 2 Average loss: 121.9388\n",
      "====> Test set loss: 116.0464\n",
      "Train Epoch: 3 [0/60000 (0%)]\tLoss: 119.713760\n",
      "Train Epoch: 3 [12800/60000 (21%)]\tLoss: 115.696259\n",
      "Train Epoch: 3 [25600/60000 (43%)]\tLoss: 121.151443\n",
      "Train Epoch: 3 [38400/60000 (64%)]\tLoss: 115.881897\n",
      "Train Epoch: 3 [51200/60000 (85%)]\tLoss: 115.875458\n",
      "====> Epoch: 3 Average loss: 114.9667\n",
      "====> Test set loss: 112.1807\n",
      "Train Epoch: 4 [0/60000 (0%)]\tLoss: 111.312546\n",
      "Train Epoch: 4 [12800/60000 (21%)]\tLoss: 112.415337\n",
      "Train Epoch: 4 [25600/60000 (43%)]\tLoss: 111.621971\n",
      "Train Epoch: 4 [38400/60000 (64%)]\tLoss: 109.251450\n",
      "Train Epoch: 4 [51200/60000 (85%)]\tLoss: 110.227173\n",
      "====> Epoch: 4 Average loss: 111.8361\n",
      "====> Test set loss: 109.7150\n",
      "Train Epoch: 5 [0/60000 (0%)]\tLoss: 110.608772\n",
      "Train Epoch: 5 [12800/60000 (21%)]\tLoss: 111.407234\n",
      "Train Epoch: 5 [25600/60000 (43%)]\tLoss: 106.479332\n",
      "Train Epoch: 5 [38400/60000 (64%)]\tLoss: 106.820778\n",
      "Train Epoch: 5 [51200/60000 (85%)]\tLoss: 107.316368\n",
      "====> Epoch: 5 Average loss: 110.0509\n",
      "====> Test set loss: 108.5324\n",
      "Train Epoch: 6 [0/60000 (0%)]\tLoss: 108.445770\n",
      "Train Epoch: 6 [12800/60000 (21%)]\tLoss: 106.123016\n",
      "Train Epoch: 6 [25600/60000 (43%)]\tLoss: 106.450897\n",
      "Train Epoch: 6 [38400/60000 (64%)]\tLoss: 107.720291\n",
      "Train Epoch: 6 [51200/60000 (85%)]\tLoss: 104.865387\n",
      "====> Epoch: 6 Average loss: 108.8324\n",
      "====> Test set loss: 107.5874\n",
      "Train Epoch: 7 [0/60000 (0%)]\tLoss: 107.280251\n",
      "Train Epoch: 7 [12800/60000 (21%)]\tLoss: 103.459877\n",
      "Train Epoch: 7 [25600/60000 (43%)]\tLoss: 107.372116\n",
      "Train Epoch: 7 [38400/60000 (64%)]\tLoss: 108.817535\n",
      "Train Epoch: 7 [51200/60000 (85%)]\tLoss: 111.822632\n",
      "====> Epoch: 7 Average loss: 108.0156\n",
      "====> Test set loss: 106.8508\n",
      "Train Epoch: 8 [0/60000 (0%)]\tLoss: 106.153481\n",
      "Train Epoch: 8 [12800/60000 (21%)]\tLoss: 111.488380\n",
      "Train Epoch: 8 [25600/60000 (43%)]\tLoss: 104.750435\n",
      "Train Epoch: 8 [38400/60000 (64%)]\tLoss: 108.145462\n",
      "Train Epoch: 8 [51200/60000 (85%)]\tLoss: 109.778603\n",
      "====> Epoch: 8 Average loss: 107.3152\n",
      "====> Test set loss: 106.6093\n",
      "Train Epoch: 9 [0/60000 (0%)]\tLoss: 108.884735\n",
      "Train Epoch: 9 [12800/60000 (21%)]\tLoss: 111.114853\n",
      "Train Epoch: 9 [25600/60000 (43%)]\tLoss: 107.335976\n",
      "Train Epoch: 9 [38400/60000 (64%)]\tLoss: 104.638672\n",
      "Train Epoch: 9 [51200/60000 (85%)]\tLoss: 106.955048\n",
      "====> Epoch: 9 Average loss: 106.7457\n",
      "====> Test set loss: 106.1109\n",
      "Train Epoch: 10 [0/60000 (0%)]\tLoss: 102.443192\n",
      "Train Epoch: 10 [12800/60000 (21%)]\tLoss: 104.867630\n",
      "Train Epoch: 10 [25600/60000 (43%)]\tLoss: 109.822906\n",
      "Train Epoch: 10 [38400/60000 (64%)]\tLoss: 107.463570\n",
      "Train Epoch: 10 [51200/60000 (85%)]\tLoss: 106.253738\n",
      "====> Epoch: 10 Average loss: 106.4187\n",
      "====> Test set loss: 105.4920\n"
     ]
    }
   ],
   "source": [
    "vae_model = VAE()\n",
    "\n",
    "optimizer = optim.Adam(vae_model.parameters(), lr=1e-3)\n",
    "\n",
    "\n",
    "for epoch in range(1, epochs + 1):\n",
    "    train(model=vae_model, loss_function=vae_loss, epoch=epoch)\n",
    "    test(model=vae_model, loss_function=vae_loss, epoch=epoch, batch_size=batch_size,\n",
    "         fig_folder=fig_folder)\n",
    "    with torch.no_grad():\n",
    "        sample = torch.randn(64, 20)\n",
    "        sample = vae_model.decode(sample).cpu()\n",
    "        save_image(sample.view(64, 1, 28, 28),\n",
    "                   'results/sample_' + str(epoch) + '.png')"
   ]
  }
 ],
 "metadata": {
  "kernelspec": {
   "display_name": "Python 3 (ipykernel)",
   "language": "python",
   "name": "python3"
  },
  "language_info": {
   "codemirror_mode": {
    "name": "ipython",
    "version": 3
   },
   "file_extension": ".py",
   "mimetype": "text/x-python",
   "name": "python",
   "nbconvert_exporter": "python",
   "pygments_lexer": "ipython3",
   "version": "3.10.6"
  },
  "toc": {
   "base_numbering": 1,
   "nav_menu": {},
   "number_sections": true,
   "sideBar": true,
   "skip_h1_title": false,
   "title_cell": "Table of Contents",
   "title_sidebar": "Contents",
   "toc_cell": false,
   "toc_position": {},
   "toc_section_display": true,
   "toc_window_display": false
  }
 },
 "nbformat": 4,
 "nbformat_minor": 1
}
