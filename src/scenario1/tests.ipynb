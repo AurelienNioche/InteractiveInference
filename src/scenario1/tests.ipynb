{
 "cells": [
  {
   "cell_type": "code",
   "execution_count": 1,
   "id": "a8d7f291",
   "metadata": {},
   "outputs": [],
   "source": [
    "import numpy as np"
   ]
  },
  {
   "cell_type": "code",
   "execution_count": 22,
   "id": "1ba0ffc1",
   "metadata": {},
   "outputs": [
    {
     "name": "stdout",
     "output_type": "stream",
     "text": [
      "x_prime 1.0\n"
     ]
    },
    {
     "data": {
      "text/plain": [
       "array([1.8369702e-16, 3.0000000e+00])"
      ]
     },
     "execution_count": 22,
     "metadata": {},
     "output_type": "execute_result"
    }
   ],
   "source": [
    "constant_amplitude=3\n",
    "angle = 90   # target_angles[i]\n",
    "# 0° Move right\n",
    "# 90° Move up\n",
    "# 180° Move left\n",
    "# 270° Move down\n",
    "\n",
    "x_prime = 1.0 # np.abs(x)\n",
    "if 90 < angle <= 270:\n",
    "    x_prime *= -1\n",
    "    \n",
    "print(\"x_prime\", x_prime)\n",
    "\n",
    "y_prime = np.tan(np.radians(angle)) * x_prime\n",
    "\n",
    "norm = constant_amplitude / np.sqrt(y_prime**2 + x_prime**2)\n",
    "np.asarray([x_prime, y_prime]) * norm"
   ]
  },
  {
   "cell_type": "code",
   "execution_count": null,
   "id": "505f4ac1",
   "metadata": {},
   "outputs": [],
   "source": []
  }
 ],
 "metadata": {
  "kernelspec": {
   "display_name": "Python 3 (ipykernel)",
   "language": "python",
   "name": "python3"
  },
  "language_info": {
   "codemirror_mode": {
    "name": "ipython",
    "version": 3
   },
   "file_extension": ".py",
   "mimetype": "text/x-python",
   "name": "python",
   "nbconvert_exporter": "python",
   "pygments_lexer": "ipython3",
   "version": "3.9.13"
  },
  "toc": {
   "base_numbering": 1,
   "nav_menu": {},
   "number_sections": true,
   "sideBar": true,
   "skip_h1_title": false,
   "title_cell": "Table of Contents",
   "title_sidebar": "Contents",
   "toc_cell": false,
   "toc_position": {},
   "toc_section_display": true,
   "toc_window_display": false
  }
 },
 "nbformat": 4,
 "nbformat_minor": 5
}
