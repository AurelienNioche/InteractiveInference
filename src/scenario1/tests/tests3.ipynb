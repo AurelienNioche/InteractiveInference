{
 "cells": [
  {
   "cell_type": "code",
   "execution_count": 10,
   "id": "b4f72390",
   "metadata": {},
   "outputs": [],
   "source": [
    "import torch"
   ]
  },
  {
   "cell_type": "code",
   "execution_count": 11,
   "id": "bb7c58ac",
   "metadata": {},
   "outputs": [
    {
     "data": {
      "text/plain": [
       "<torch.autograd.anomaly_mode.set_detect_anomaly at 0x150a66610>"
      ]
     },
     "execution_count": 11,
     "metadata": {},
     "output_type": "execute_result"
    }
   ],
   "source": [
    "torch.autograd.set_detect_anomaly(True)"
   ]
  },
  {
   "cell_type": "code",
   "execution_count": 21,
   "id": "adb266a8",
   "metadata": {},
   "outputs": [],
   "source": [
    "a = torch.nn.Parameter(torch.tensor([3.0]))\n",
    "b = torch.nn.Parameter(torch.tensor([5.0]))\n",
    "\n",
    "a_opt = torch.optim.Adam([a, ], lr=0.1)\n",
    "\n",
    "for step in range(100):\n",
    "\n",
    "    old_a = a.clone()\n",
    "    opt.zero_grad()\n",
    "                \n",
    "    b = torch.nn.Parameter(b.clone())\n",
    "    b_opt = torch.optim.Adam([b, ], lr=0.1)\n",
    "\n",
    "    for step in range(100):\n",
    "\n",
    "        old_b = b.clone()\n",
    "\n",
    "        opt.zero_grad()\n",
    "        \n",
    "        b_loss = b**2 + a**2\n",
    "        b_loss.backward()\n",
    "        b_opt.step()\n",
    "\n",
    "        if torch.isclose(old_b, b).all():\n",
    "            break\n",
    "    \n",
    "    a_loss = - b - a\n",
    "    a_loss.backward()\n",
    "    a_opt.step()\n",
    "\n",
    "    if torch.isclose(old_a, a).all():\n",
    "        break"
   ]
  },
  {
   "cell_type": "code",
   "execution_count": 22,
   "id": "d0b6b2ad",
   "metadata": {},
   "outputs": [
    {
     "name": "stdout",
     "output_type": "stream",
     "text": [
      "tensor([0.9514]) tensor([-2.6784])\n"
     ]
    }
   ],
   "source": [
    "print(a.data, b.data)"
   ]
  },
  {
   "cell_type": "code",
   "execution_count": null,
   "id": "ba660989",
   "metadata": {},
   "outputs": [],
   "source": []
  }
 ],
 "metadata": {
  "kernelspec": {
   "display_name": "Python 3 (ipykernel)",
   "language": "python",
   "name": "python3"
  },
  "language_info": {
   "codemirror_mode": {
    "name": "ipython",
    "version": 3
   },
   "file_extension": ".py",
   "mimetype": "text/x-python",
   "name": "python",
   "nbconvert_exporter": "python",
   "pygments_lexer": "ipython3",
   "version": "3.9.13"
  },
  "toc": {
   "base_numbering": 1,
   "nav_menu": {},
   "number_sections": true,
   "sideBar": true,
   "skip_h1_title": false,
   "title_cell": "Table of Contents",
   "title_sidebar": "Contents",
   "toc_cell": false,
   "toc_position": {},
   "toc_section_display": true,
   "toc_window_display": false
  }
 },
 "nbformat": 4,
 "nbformat_minor": 5
}
