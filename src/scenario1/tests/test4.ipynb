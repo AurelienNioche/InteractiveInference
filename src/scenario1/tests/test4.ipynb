{
 "cells": [
  {
   "cell_type": "code",
   "execution_count": 1,
   "id": "160100e8",
   "metadata": {},
   "outputs": [],
   "source": [
    "import torch"
   ]
  },
  {
   "cell_type": "code",
   "execution_count": 4,
   "id": "71963c0c",
   "metadata": {},
   "outputs": [],
   "source": [
    "b_rol = torch.zeros(5)"
   ]
  },
  {
   "cell_type": "code",
   "execution_count": 9,
   "id": "1b6c4694",
   "metadata": {},
   "outputs": [
    {
     "ename": "NameError",
     "evalue": "name 'q_prime' is not defined",
     "output_type": "error",
     "traceback": [
      "\u001b[0;31m---------------------------------------------------------------------------\u001b[0m",
      "\u001b[0;31mNameError\u001b[0m                                 Traceback (most recent call last)",
      "Cell \u001b[0;32mIn [9], line 10\u001b[0m\n\u001b[1;32m      8\u001b[0m b_opt\u001b[38;5;241m.\u001b[39mzero_grad()\n\u001b[1;32m      9\u001b[0m q_rol \u001b[38;5;241m=\u001b[39m torch\u001b[38;5;241m.\u001b[39msoftmax(b_rol, dim\u001b[38;5;241m=\u001b[39m\u001b[38;5;241m0\u001b[39m)\n\u001b[0;32m---> 10\u001b[0m kl_div \u001b[38;5;241m=\u001b[39m torch\u001b[38;5;241m.\u001b[39msum(\u001b[43mq_prime\u001b[49m \u001b[38;5;241m*\u001b[39m (q_prime\u001b[38;5;241m.\u001b[39mlog() \u001b[38;5;241m-\u001b[39m logp_yq))\n\u001b[1;32m     12\u001b[0m b_rol_pow \u001b[38;5;241m=\u001b[39m b_rol \u001b[38;5;241m*\u001b[39m b_rol\n\u001b[1;32m     13\u001b[0m kl_div \u001b[38;5;241m=\u001b[39m (b_rol_pow)\u001b[38;5;241m.\u001b[39msum()\n",
      "\u001b[0;31mNameError\u001b[0m: name 'q_prime' is not defined"
     ]
    }
   ],
   "source": [
    "b_rol = torch.nn.Parameter(b_rol.clone())\n",
    "b_opt = torch.optim.Adam([b_rol, ], lr=0.1)\n",
    "\n",
    "for step in range(10):\n",
    "\n",
    "    old_b = b_rol.clone()\n",
    "\n",
    "    b_opt.zero_grad()\n",
    "    q_rol = torch.softmax(b_rol, dim=0)\n",
    "    kl_div = torch.sum(q_prime * (q_prime.log() - logp_yq))\n",
    "\n",
    "    b_rol_pow = b_rol * b_rol\n",
    "    kl_div = (b_rol_pow).sum()\n",
    "    kl_div.backward()\n",
    "    b_opt.step()\n",
    "\n",
    "    if torch.isclose(old_b, b_rol).all():\n",
    "        break"
   ]
  },
  {
   "cell_type": "code",
   "execution_count": null,
   "id": "3649b3eb",
   "metadata": {},
   "outputs": [],
   "source": []
  }
 ],
 "metadata": {
  "kernelspec": {
   "display_name": "Python 3 (ipykernel)",
   "language": "python",
   "name": "python3"
  },
  "language_info": {
   "codemirror_mode": {
    "name": "ipython",
    "version": 3
   },
   "file_extension": ".py",
   "mimetype": "text/x-python",
   "name": "python",
   "nbconvert_exporter": "python",
   "pygments_lexer": "ipython3",
   "version": "3.9.13"
  },
  "toc": {
   "base_numbering": 1,
   "nav_menu": {},
   "number_sections": true,
   "sideBar": true,
   "skip_h1_title": false,
   "title_cell": "Table of Contents",
   "title_sidebar": "Contents",
   "toc_cell": false,
   "toc_position": {},
   "toc_section_display": true,
   "toc_window_display": false
  }
 },
 "nbformat": 4,
 "nbformat_minor": 5
}
