{
 "cells": [
  {
   "cell_type": "markdown",
   "metadata": {
    "pycharm": {
     "name": "#%% md\n"
    }
   },
   "source": [
    "Adapted from is from https://github.com/vschaik/Active-Inference"
   ]
  },
  {
   "cell_type": "code",
   "execution_count": 14,
   "metadata": {
    "pycharm": {
     "name": "#%%\n"
    }
   },
   "outputs": [],
   "source": [
    "import numpy as np\n",
    "import torch\n",
    "from matplotlib import pyplot as plt"
   ]
  },
  {
   "cell_type": "code",
   "execution_count": 15,
   "metadata": {
    "pycharm": {
     "name": "#%%\n"
    }
   },
   "outputs": [],
   "source": [
    "np.random.seed(123)\n",
    "torch.manual_seed(123);"
   ]
  },
  {
   "cell_type": "code",
   "execution_count": 16,
   "metadata": {
    "pycharm": {
     "name": "#%%\n"
    }
   },
   "outputs": [],
   "source": [
    "def sensory_dynamics(psi):\n",
    "    \"\"\"\n",
    "    P(s | psi)\n",
    "    Probability of experiencing sensory state 1 given current position.\n",
    "    \"\"\"\n",
    "    return MAX_SENSE_PROBABILITY * torch.exp(-SENSE_DECAY_RATE * \n",
    "                torch.min(torch.abs(psi - FOOD_POSITION), torch.abs(psi - FOOD_POSITION - ENV_SIZE)))\n",
    "\n",
    "\n",
    "def model_encoding(b):\n",
    "    \"\"\"\n",
    "    Probability of occupying specific position as encoded in the internal state.\n",
    "    \"\"\"\n",
    "    # Softmax function. The shift by b.max() is for numerical stability\n",
    "    return torch.exp(b - b.max()) / torch.sum(torch.exp(b - b.max()))\n",
    "\n",
    "\n",
    "def generative_density(b, a):\n",
    "    \"\"\"\n",
    "    P(psi', s | b, a)\n",
    "    Agent's prediction of its new position given its internal state and selected action\n",
    "    (calculated separately for two sensory states).\n",
    "\n",
    "    P(psi', s | b, a) = Sum_over_psi(P(psi' | s, b, a, psi) * P(s | b, a, psi) * P(psi | b, a))\n",
    "                      = Sum_over_psi(P(psi' | a, psi) * P(s | psi) * P(psi | b))\n",
    "                      \n",
    "    since psi' only depends on a and psi, s only depends on psi, and psi only depends on b.\n",
    "\n",
    "    \"\"\"\n",
    "    # sensory dynamics for each position: \n",
    "    \"\"\"P(s | psi)\"\"\"\n",
    "    sd = sensory_dynamics(torch.arange(ENV_SIZE))\n",
    "    \n",
    "    \"\"\"\n",
    "    P(psi', s | b, a) = Sum_over_psi(P(psi' | a, psi) * P(s | psi) * P(psi | b))\n",
    "    Note that the Sum_over_psi is only taken over the two positions psi that can result in getting to psi' given a\n",
    "    \"\"\"\n",
    "    psi_prime_0 = ((1-MOVEMENT_PROBABILITY) * (1 - sd) * model_encoding(b) + \n",
    "                 MOVEMENT_PROBABILITY * torch.roll((1 - sd) * model_encoding(b), a))\n",
    "\n",
    "    psi_prime_1 = ((1-MOVEMENT_PROBABILITY) * sd * model_encoding(b) + \n",
    "                 MOVEMENT_PROBABILITY * torch.roll(sd * model_encoding(b), a))\n",
    "    \n",
    "    return [psi_prime_0, psi_prime_1]\n",
    "\n",
    "\n",
    "def variational_density(b):\n",
    "    \"\"\"\n",
    "    P(psi | b)\n",
    "    Agent's belief about the external states (i.e. its current position in the \n",
    "    world) or intention (i.e. desired position in the world) as encoded in the\n",
    "    internal state.\n",
    "    \"\"\"\n",
    "    return model_encoding(b)\n",
    "\n",
    "\n",
    "def KL(a, b):\n",
    "    \"\"\"\n",
    "    Kullback-Leibler divergence between densities a and b.\n",
    "    \"\"\"\n",
    "    return torch.sum(a * (torch.log(a) - torch.log(b)))\n",
    "\n",
    "\n",
    "def free_energy(b_star, b, s, a):\n",
    "    \"\"\"\n",
    "    KL divergence between variational density and generative density for a fixed\n",
    "    sensory state s.\n",
    "    \"\"\"\n",
    "    return KL(variational_density(b_star), generative_density(b, a)[s])"
   ]
  },
  {
   "cell_type": "code",
   "execution_count": 17,
   "metadata": {
    "pycharm": {
     "name": "#%%\n"
    }
   },
   "outputs": [],
   "source": [
    "def simulate_agent(psi, b, b_star):\n",
    "    \"\"\"\n",
    "    Simulate the agent for EPOCHS steps.\n",
    "    \"\"\"\n",
    "    # start trace at initial position\n",
    "    psi_trace = [psi]\n",
    "    \n",
    "    # show the sensory dynamics given the food distribution at the left of the belief trace\n",
    "    b_trace = [sensory_dynamics(torch.arange(ENV_SIZE)).numpy()]\n",
    "    \n",
    "    s_trace = []\n",
    "    \n",
    "    a_trace = []\n",
    "\n",
    "    for epoch in range(EPOCHS):\n",
    "\n",
    "        # Calculate sensory state s \\in {0, 1}\n",
    "        s = int(np.random.random() < sensory_dynamics(torch.tensor([psi, ])).item())\n",
    "\n",
    "        # Pick action state, a \\in {-1, 0, 1}\n",
    "        # Calculate the free energy given my target (intent) distribution, current state distribution, & sensory input \n",
    "        # Do this for all (three) actions and select the action with minimum free energy.\n",
    "        i = np.argmin((free_energy(b_star, b, s, -1).item(), \n",
    "                       free_energy(b_star, b, s, 0).item(), \n",
    "                       free_energy(b_star, b, s, 1).item()))\n",
    "        a = (-1, 0, 1)[i]\n",
    "\n",
    "        # Update actual position by taking action\n",
    "        psi = (psi + a * (np.random.random() < MOVEMENT_PROBABILITY)) % ENV_SIZE\n",
    "            \n",
    "        # Update my internal state.\n",
    "        # Start by creating a belief for my new position b_prime, from my belief for my previous position b\n",
    "        # by mixing according to movement probability given action a:\n",
    "        b_prime = MOVEMENT_PROBABILITY * torch.roll(b, a) + (1 - MOVEMENT_PROBABILITY) * b\n",
    "        # Note, this is not essential, as the minimisation below will update b_prime,\n",
    "        # but it does provide a good starting point for gradient descent\n",
    "        \n",
    "        b.requires_grad = True\n",
    "        \n",
    "        b_prime = torch.nn.Parameter(b_prime)\n",
    "        \n",
    "        opt = torch.optim.Adam([b_prime, ], lr=LEARNING_RATE)\n",
    "        # Now minimise free energy\n",
    "        for step in range(N_STEPS):\n",
    "            opt.zero_grad()\n",
    "            loss = free_energy(b_prime, b, s, a)\n",
    "            loss.backward()\n",
    "            opt.step()\n",
    "            \n",
    "        # Update internal state\n",
    "        b = b_prime.detach()\n",
    "        \n",
    "        # Save position, sensory output, and internal state for plotting\n",
    "        s_trace.append(s)\n",
    "        a_trace.append(a)\n",
    "        psi_trace.append(psi)\n",
    "        b_trace.append(model_encoding(b).numpy())\n",
    "\n",
    "    # Show the target position as probability distribution at the right of the belief trace\n",
    "    b_trace.append(model_encoding(b_star).numpy()) \n",
    "    s_trace.append(int(np.random.random() < sensory_dynamics(torch.tensor([psi,])).item()))\n",
    "    return (b_trace, psi_trace, s_trace, a_trace)\n",
    "\n",
    "\n",
    "def plot_traces(b_trace, psi_trace, s_trace, a_trace):\n",
    "    \"\"\"\n",
    "    Helper function for plotting agent's internal state and position.\n",
    "    \"\"\"\n",
    "    fig = plt.figure(figsize=(15, 4))\n",
    "    ax = fig.gca()\n",
    "    im = ax.imshow(np.transpose(b_trace),\n",
    "              interpolation=\"nearest\", \n",
    "              aspect = \"auto\", \n",
    "              vmin = 0, vmax = 1, \n",
    "              cmap = \"viridis\")\n",
    "    c = np.asarray(['white' if s==1 else 'grey' for s in s_trace])\n",
    "    psi = np.asarray(psi_trace)\n",
    "    epochs = np.arange(EPOCHS+1)\n",
    "    a_trace.append(0)\n",
    "    a = np.asarray(a_trace)\n",
    "    idx = a<0\n",
    "    ax.scatter(epochs[idx], psi[idx], c = c[idx], marker = 'v')\n",
    "    idx = a>0\n",
    "    ax.scatter(epochs[idx], psi[idx], c = c[idx], marker = '^')\n",
    "    idx = a==0\n",
    "    ax.scatter(epochs[idx], psi[idx], c = c[idx], marker = 'o')    \n",
    "    ax.invert_yaxis()\n",
    "    ax.set_xlim([0,EPOCHS+1])\n",
    "    fig.colorbar(im)\n",
    "    return fig"
   ]
  },
  {
   "cell_type": "code",
   "execution_count": 18,
   "metadata": {
    "pycharm": {
     "name": "#%%\n"
    }
   },
   "outputs": [
    {
     "data": {
      "image/png": "[encoded data removed]",
      "text/plain": [
       "<Figure size 1080x288 with 2 Axes>"
      ]
     },
     "metadata": {
      "image/png": {
       "height": 252,
       "width": 779
      },
      "needs_background": "light"
     },
     "output_type": "display_data"
    }
   ],
   "source": [
    "ENV_SIZE = 16\n",
    "INITIAL_POSITION = 0\n",
    "FOOD_POSITION = 8\n",
    "MOVEMENT_PROBABILITY = 0.75\n",
    "\n",
    "# Sensory dynamics parameters\n",
    "MAX_SENSE_PROBABILITY = 4.0**(-1.0/16) # k\n",
    "SENSE_DECAY_RATE = np.log(4)/16 # omega\n",
    "\n",
    "# Position (external state), Psi \\in (0,15)\n",
    "psi = INITIAL_POSITION\n",
    "\n",
    "# Internal state, R \\in R^16\n",
    "b = torch.zeros(ENV_SIZE, requires_grad=False)\n",
    "\n",
    "# Internal state (as intention), Ri \\in R^16\n",
    "TARGET_POSITION = 3\n",
    "b_star = torch.zeros(ENV_SIZE)\n",
    "b_star[TARGET_POSITION] = 10 # strong preference for a single target position\n",
    "\n",
    "# Simulation parameters\n",
    "EPOCHS = 100                 # Number of epochs (simulation steps).\n",
    "N_STEPS = 100                # Number of gradient descent steps made to update beliefs in each epoch.\n",
    "LEARNING_RATE = 0.7          # Stochastic gradient descent learning rate\n",
    "\n",
    "# Run simulation\n",
    "(b_trace, psi_trace, s_trace, a_trace) = simulate_agent(psi, b, b_star)\n",
    "\n",
    "# Plot output\n",
    "fig = plot_traces(b_trace, psi_trace, s_trace, a_trace)\n",
    "\n",
    "# # Print sensory spike probability as a function of position\n",
    "# print(sensory_dynamics(np.arange(ENV_SIZE)))"
   ]
  },
  {
   "cell_type": "code",
   "execution_count": null,
   "metadata": {
    "pycharm": {
     "name": "#%%\n"
    }
   },
   "outputs": [],
   "source": []
  }
 ],
 "metadata": {
  "hide_input": false,
  "kernelspec": {
   "display_name": "Python 3 (ipykernel)",
   "language": "python",
   "name": "python3"
  },
  "language_info": {
   "codemirror_mode": {
    "name": "ipython",
    "version": 3
   },
   "file_extension": ".py",
   "mimetype": "text/x-python",
   "name": "python",
   "nbconvert_exporter": "python",
   "pygments_lexer": "ipython3",
   "version": "3.9.13"
  },
  "latex_envs": {
   "bibliofile": "biblio.bib",
   "cite_by": "apalike",
   "current_citInitial": 1,
   "eqLabelWithNumbers": true,
   "eqNumInitial": 0
  },
  "toc": {
   "base_numbering": 1,
   "nav_menu": {},
   "number_sections": true,
   "sideBar": true,
   "skip_h1_title": false,
   "title_cell": "Table of Contents",
   "title_sidebar": "Contents",
   "toc_cell": false,
   "toc_position": {},
   "toc_section_display": true,
   "toc_window_display": false
  }
 },
 "nbformat": 4,
 "nbformat_minor": 2
}