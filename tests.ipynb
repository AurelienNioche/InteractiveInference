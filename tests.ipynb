{
 "cells": [
  {
   "cell_type": "code",
   "execution_count": 1,
   "id": "ffcdf60f",
   "metadata": {},
   "outputs": [],
   "source": [
    "import torch\n",
    "from torch import distributions as dist"
   ]
  },
  {
   "cell_type": "code",
   "execution_count": 2,
   "id": "75d09ad1",
   "metadata": {},
   "outputs": [],
   "source": [
    "a = dist.Normal(0, 1)\n",
    "b = dist.Normal(1, 1)"
   ]
  },
  {
   "cell_type": "code",
   "execution_count": null,
   "id": "a63035e0",
   "metadata": {},
   "outputs": [],
   "source": [
    "dist.Normal()"
   ]
  }
 ],
 "metadata": {
  "kernelspec": {
   "display_name": "Python 3 (ipykernel)",
   "language": "python",
   "name": "python3"
  },
  "language_info": {
   "codemirror_mode": {
    "name": "ipython",
    "version": 3
   },
   "file_extension": ".py",
   "mimetype": "text/x-python",
   "name": "python",
   "nbconvert_exporter": "python",
   "pygments_lexer": "ipython3",
   "version": "3.9.16"
  },
  "toc": {
   "base_numbering": 1,
   "nav_menu": {},
   "number_sections": true,
   "sideBar": true,
   "skip_h1_title": false,
   "title_cell": "Table of Contents",
   "title_sidebar": "Contents",
   "toc_cell": false,
   "toc_position": {},
   "toc_section_display": true,
   "toc_window_display": false
  }
 },
 "nbformat": 4,
 "nbformat_minor": 5
}
